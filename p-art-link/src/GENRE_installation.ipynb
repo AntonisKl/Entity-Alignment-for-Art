{
  "cells": [
    {
      "cell_type": "markdown",
      "metadata": {
        "id": "hpyUXp5a86Oo"
      },
      "source": [
        "## Install fairseq"
      ]
    },
    {
      "cell_type": "code",
      "execution_count": null,
      "metadata": {},
      "outputs": [],
      "source": [
        "%load_ext autoreload\n",
        "%autoreload 2"
      ]
    },
    {
      "cell_type": "code",
      "execution_count": null,
      "metadata": {},
      "outputs": [],
      "source": [
        "import sysconfig\n",
        "site_packages_path = sysconfig.get_paths()[\"purelib\"]"
      ]
    },
    {
      "cell_type": "code",
      "execution_count": null,
      "metadata": {
        "id": "DgImLyR_x0hr"
      },
      "outputs": [],
      "source": [
        "! rm -rf {site_packages_path}/examples"
      ]
    },
    {
      "cell_type": "code",
      "execution_count": null,
      "metadata": {
        "colab": {
          "base_uri": "https://localhost:8080/"
        },
        "id": "6sWm0a83YVuh",
        "outputId": "42716880-8657-4df7-a5c1-4a437713303b"
      },
      "outputs": [],
      "source": [
        "! rm -rf fairseq\n",
        "! git clone --branch fixing_prefix_allowed_tokens_fn https://github.com/nicola-decao/fairseq"
      ]
    },
    {
      "cell_type": "code",
      "execution_count": null,
      "metadata": {
        "id": "Mir6YnYJxYno"
      },
      "outputs": [],
      "source": [
        "# There appears to be a bug in fairseq at these line numbers\n",
        "# Removing the lines helps a bit.\n",
        "! sed -i -e '26,27d' fairseq/fairseq/registry.py"
      ]
    },
    {
      "cell_type": "code",
      "execution_count": null,
      "metadata": {
        "colab": {
          "base_uri": "https://localhost:8080/"
        },
        "id": "CPqPsJaZYdZ1",
        "outputId": "a9436bc3-84b6-42a5-ca58-28c357784300"
      },
      "outputs": [],
      "source": [
        "! cd fairseq && pip install ./"
      ]
    },
    {
      "cell_type": "code",
      "execution_count": null,
      "metadata": {
        "colab": {
          "base_uri": "https://localhost:8080/"
        },
        "id": "Hb--qs5OAx2n",
        "outputId": "68251970-0b66-483c-9b11-789d9b945fe4"
      },
      "outputs": [],
      "source": [
        "! mkdir -p examples_dir\n",
        "! cp -r fairseq/examples/ examples_dir\n",
        "! ls examples_dir"
      ]
    },
    {
      "cell_type": "code",
      "execution_count": null,
      "metadata": {
        "id": "vknS2xB3HtFu"
      },
      "outputs": [],
      "source": [
        "! cp -r fairseq/fairseq/models/speech_to_text/modules {site_packages_path}/fairseq/models/speech_to_text"
      ]
    },
    {
      "cell_type": "markdown",
      "metadata": {
        "id": "XACOGgn9821v"
      },
      "source": [
        "## Install GENRE"
      ]
    },
    {
      "cell_type": "code",
      "execution_count": null,
      "metadata": {
        "colab": {
          "base_uri": "https://localhost:8080/"
        },
        "id": "dPtRnBalzLGW",
        "outputId": "2db2441f-2355-4a94-e4e9-dd985a7231bb"
      },
      "outputs": [],
      "source": [
        "!rm -rf GENRE\n",
        "!git clone https://github.com/facebookresearch/GENRE.git"
      ]
    },
    {
      "cell_type": "code",
      "execution_count": null,
      "metadata": {
        "colab": {
          "base_uri": "https://localhost:8080/"
        },
        "id": "y3sSRRHe8lWD",
        "outputId": "67ba42fb-0798-42cb-8ed4-1eec39597f17"
      },
      "outputs": [],
      "source": [
        "! cd GENRE && pip install ./"
      ]
    },
    {
      "cell_type": "markdown",
      "metadata": {
        "id": "EDunZCjj9Av7"
      },
      "source": [
        "## Download models"
      ]
    },
    {
      "cell_type": "code",
      "execution_count": null,
      "metadata": {
        "colab": {
          "base_uri": "https://localhost:8080/"
        },
        "id": "Ed0HCRYTzU1x",
        "outputId": "1ff7b39f-f8c0-454b-d5ca-8d68a2f7e384"
      },
      "outputs": [],
      "source": [
        "! wget http://dl.fbaipublicfiles.com/GENRE/fairseq_e2e_entity_linking_wiki_abs.tar.gz"
      ]
    },
    {
      "cell_type": "code",
      "execution_count": null,
      "metadata": {
        "colab": {
          "base_uri": "https://localhost:8080/"
        },
        "id": "iyqeoZawzcYT",
        "outputId": "dc5f0d57-a4ae-49c1-89d6-aca0bfcb8f58"
      },
      "outputs": [],
      "source": [
        "! tar -xvf fairseq_e2e_entity_linking_wiki_abs.tar.gz"
      ]
    }
  ],
  "metadata": {
    "accelerator": "GPU",
    "colab": {
      "gpuType": "T4",
      "machine_shape": "hm",
      "provenance": []
    },
    "kernelspec": {
      "display_name": "Python 3",
      "name": "python3"
    },
    "language_info": {
      "codemirror_mode": {
        "name": "ipython",
        "version": 3
      },
      "file_extension": ".py",
      "mimetype": "text/x-python",
      "name": "python",
      "nbconvert_exporter": "python",
      "pygments_lexer": "ipython3",
      "version": "3.9.13"
    }
  },
  "nbformat": 4,
  "nbformat_minor": 0
}
